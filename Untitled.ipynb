{
 "cells": [
  {
   "cell_type": "code",
   "execution_count": 1,
   "id": "4044ca82-48ff-4a68-9e4f-065558e37551",
   "metadata": {},
   "outputs": [],
   "source": [
    "import pandas as pd\n",
    "import numpy as np\n",
    "import sys\n",
    "import sweetviz as sv\n",
    "import matplotlib.pyplot as plt\n",
    "import seaborn as sns\n",
    "from evalml import AutoMLSearch\n",
    "from evalml.model_family import ModelFamily\n",
    "from sklearn.model_selection import train_test_split\n",
    "import streamlit as st\n",
    "from sklearn.ensemble import RandomForestRegressor"
   ]
  },
  {
   "cell_type": "code",
   "execution_count": 2,
   "id": "b6a68fa9-6348-4eab-b25d-2eb82ab2f0b3",
   "metadata": {},
   "outputs": [],
   "source": [
    "#!{sys.executable} -m pip install sweetviz\n",
    "#!{sys.executable} -m pip install streamlit"
   ]
  },
  {
   "cell_type": "code",
   "execution_count": 3,
   "id": "a47e66a3-319b-46d1-b1e6-fd1b8e347555",
   "metadata": {},
   "outputs": [],
   "source": [
    "df = pd.read_csv('SFAirbnb.csv')"
   ]
  },
  {
   "cell_type": "code",
   "execution_count": 4,
   "id": "fdaac31c-317c-4d7c-a200-791c25b7393f",
   "metadata": {},
   "outputs": [
    {
     "data": {
      "text/plain": [
       "array(['id', 'listing_url', 'scrape_id', 'last_scraped', 'name',\n",
       "       'summary', 'space', 'description', 'experiences_offered',\n",
       "       'neighborhood_overview', 'notes', 'transit', 'access',\n",
       "       'interaction', 'house_rules', 'thumbnail_url', 'medium_url',\n",
       "       'picture_url', 'xl_picture_url', 'host_id', 'host_url',\n",
       "       'host_name', 'host_since', 'host_location', 'host_about',\n",
       "       'host_response_time', 'host_response_rate', 'host_acceptance_rate',\n",
       "       'host_is_superhost', 'host_thumbnail_url', 'host_picture_url',\n",
       "       'host_neighbourhood', 'host_listings_count',\n",
       "       'host_total_listings_count', 'host_verifications',\n",
       "       'host_has_profile_pic', 'host_identity_verified', 'street',\n",
       "       'neighbourhood', 'neighbourhood_cleansed',\n",
       "       'neighbourhood_group_cleansed', 'city', 'state', 'zipcode',\n",
       "       'market', 'smart_location', 'country_code', 'country', 'latitude',\n",
       "       'longitude', 'is_location_exact', 'property_type', 'room_type',\n",
       "       'accommodates', 'bathrooms', 'bedrooms', 'beds', 'bed_type',\n",
       "       'amenities', 'square_feet', 'price', 'weekly_price',\n",
       "       'monthly_price', 'security_deposit', 'cleaning_fee',\n",
       "       'guests_included', 'extra_people', 'minimum_nights',\n",
       "       'maximum_nights', 'minimum_minimum_nights',\n",
       "       'maximum_minimum_nights', 'minimum_maximum_nights',\n",
       "       'maximum_maximum_nights', 'minimum_nights_avg_ntm',\n",
       "       'maximum_nights_avg_ntm', 'calendar_updated', 'has_availability',\n",
       "       'availability_30', 'availability_60', 'availability_90',\n",
       "       'availability_365', 'calendar_last_scraped', 'number_of_reviews',\n",
       "       'number_of_reviews_ltm', 'first_review', 'last_review',\n",
       "       'review_scores_rating', 'review_scores_accuracy',\n",
       "       'review_scores_cleanliness', 'review_scores_checkin',\n",
       "       'review_scores_communication', 'review_scores_location',\n",
       "       'review_scores_value', 'requires_license', 'license',\n",
       "       'jurisdiction_names', 'instant_bookable',\n",
       "       'is_business_travel_ready', 'cancellation_policy',\n",
       "       'require_guest_profile_picture',\n",
       "       'require_guest_phone_verification',\n",
       "       'calculated_host_listings_count',\n",
       "       'calculated_host_listings_count_entire_homes',\n",
       "       'calculated_host_listings_count_private_rooms',\n",
       "       'calculated_host_listings_count_shared_rooms', 'reviews_per_month'],\n",
       "      dtype=object)"
      ]
     },
     "execution_count": 4,
     "metadata": {},
     "output_type": "execute_result"
    }
   ],
   "source": [
    "df.columns.values"
   ]
  },
  {
   "cell_type": "code",
   "execution_count": 5,
   "id": "b61f3d69-2129-4bf5-a4fa-f5de34e4e29b",
   "metadata": {},
   "outputs": [],
   "source": [
    "#Drop Unimportant features\n",
    "features = ['zipcode', 'property_type', 'room_type', 'accommodates', 'bathrooms', 'bedrooms', 'beds', 'security_deposit', 'price']"
   ]
  },
  {
   "cell_type": "code",
   "execution_count": 6,
   "id": "0ef96006-7d1a-4ca1-a07a-03ff9ddee40a",
   "metadata": {},
   "outputs": [],
   "source": [
    "df = df[features]"
   ]
  },
  {
   "cell_type": "code",
   "execution_count": 7,
   "id": "0ddf3829-5882-4db5-af0b-b566ae55efb2",
   "metadata": {},
   "outputs": [
    {
     "data": {
      "text/html": [
       "<div>\n",
       "<style scoped>\n",
       "    .dataframe tbody tr th:only-of-type {\n",
       "        vertical-align: middle;\n",
       "    }\n",
       "\n",
       "    .dataframe tbody tr th {\n",
       "        vertical-align: top;\n",
       "    }\n",
       "\n",
       "    .dataframe thead th {\n",
       "        text-align: right;\n",
       "    }\n",
       "</style>\n",
       "<table border=\"1\" class=\"dataframe\">\n",
       "  <thead>\n",
       "    <tr style=\"text-align: right;\">\n",
       "      <th></th>\n",
       "      <th>zipcode</th>\n",
       "      <th>property_type</th>\n",
       "      <th>room_type</th>\n",
       "      <th>accommodates</th>\n",
       "      <th>bathrooms</th>\n",
       "      <th>bedrooms</th>\n",
       "      <th>beds</th>\n",
       "      <th>security_deposit</th>\n",
       "      <th>price</th>\n",
       "    </tr>\n",
       "  </thead>\n",
       "  <tbody>\n",
       "    <tr>\n",
       "      <th>0</th>\n",
       "      <td>94117</td>\n",
       "      <td>Apartment</td>\n",
       "      <td>Entire home/apt</td>\n",
       "      <td>3</td>\n",
       "      <td>1.0</td>\n",
       "      <td>1.0</td>\n",
       "      <td>2.0</td>\n",
       "      <td>$100.00</td>\n",
       "      <td>$170.00</td>\n",
       "    </tr>\n",
       "    <tr>\n",
       "      <th>1</th>\n",
       "      <td>94131</td>\n",
       "      <td>House</td>\n",
       "      <td>Private room</td>\n",
       "      <td>2</td>\n",
       "      <td>1.0</td>\n",
       "      <td>1.0</td>\n",
       "      <td>1.0</td>\n",
       "      <td>$0.00</td>\n",
       "      <td>$99.00</td>\n",
       "    </tr>\n",
       "    <tr>\n",
       "      <th>2</th>\n",
       "      <td>94110</td>\n",
       "      <td>Apartment</td>\n",
       "      <td>Entire home/apt</td>\n",
       "      <td>5</td>\n",
       "      <td>1.0</td>\n",
       "      <td>2.0</td>\n",
       "      <td>3.0</td>\n",
       "      <td>NaN</td>\n",
       "      <td>$235.00</td>\n",
       "    </tr>\n",
       "    <tr>\n",
       "      <th>3</th>\n",
       "      <td>94117</td>\n",
       "      <td>Apartment</td>\n",
       "      <td>Private room</td>\n",
       "      <td>2</td>\n",
       "      <td>4.0</td>\n",
       "      <td>1.0</td>\n",
       "      <td>1.0</td>\n",
       "      <td>$200.00</td>\n",
       "      <td>$65.00</td>\n",
       "    </tr>\n",
       "    <tr>\n",
       "      <th>4</th>\n",
       "      <td>94117</td>\n",
       "      <td>Apartment</td>\n",
       "      <td>Private room</td>\n",
       "      <td>2</td>\n",
       "      <td>4.0</td>\n",
       "      <td>1.0</td>\n",
       "      <td>1.0</td>\n",
       "      <td>$200.00</td>\n",
       "      <td>$65.00</td>\n",
       "    </tr>\n",
       "    <tr>\n",
       "      <th>...</th>\n",
       "      <td>...</td>\n",
       "      <td>...</td>\n",
       "      <td>...</td>\n",
       "      <td>...</td>\n",
       "      <td>...</td>\n",
       "      <td>...</td>\n",
       "      <td>...</td>\n",
       "      <td>...</td>\n",
       "      <td>...</td>\n",
       "    </tr>\n",
       "    <tr>\n",
       "      <th>8106</th>\n",
       "      <td>94110</td>\n",
       "      <td>House</td>\n",
       "      <td>Private room</td>\n",
       "      <td>5</td>\n",
       "      <td>2.0</td>\n",
       "      <td>3.0</td>\n",
       "      <td>4.0</td>\n",
       "      <td>$1,000.00</td>\n",
       "      <td>$699.00</td>\n",
       "    </tr>\n",
       "    <tr>\n",
       "      <th>8107</th>\n",
       "      <td>94102</td>\n",
       "      <td>Condominium</td>\n",
       "      <td>Entire home/apt</td>\n",
       "      <td>4</td>\n",
       "      <td>1.0</td>\n",
       "      <td>1.0</td>\n",
       "      <td>2.0</td>\n",
       "      <td>NaN</td>\n",
       "      <td>$200.00</td>\n",
       "    </tr>\n",
       "    <tr>\n",
       "      <th>8108</th>\n",
       "      <td>94124</td>\n",
       "      <td>Hut</td>\n",
       "      <td>Private room</td>\n",
       "      <td>1</td>\n",
       "      <td>2.0</td>\n",
       "      <td>1.0</td>\n",
       "      <td>0.0</td>\n",
       "      <td>NaN</td>\n",
       "      <td>$69.00</td>\n",
       "    </tr>\n",
       "    <tr>\n",
       "      <th>8109</th>\n",
       "      <td>94103</td>\n",
       "      <td>Apartment</td>\n",
       "      <td>Entire home/apt</td>\n",
       "      <td>2</td>\n",
       "      <td>1.0</td>\n",
       "      <td>1.0</td>\n",
       "      <td>1.0</td>\n",
       "      <td>NaN</td>\n",
       "      <td>$187.00</td>\n",
       "    </tr>\n",
       "    <tr>\n",
       "      <th>8110</th>\n",
       "      <td>94014</td>\n",
       "      <td>House</td>\n",
       "      <td>Private room</td>\n",
       "      <td>5</td>\n",
       "      <td>1.0</td>\n",
       "      <td>2.0</td>\n",
       "      <td>2.0</td>\n",
       "      <td>$200.00</td>\n",
       "      <td>$200.00</td>\n",
       "    </tr>\n",
       "  </tbody>\n",
       "</table>\n",
       "<p>8111 rows × 9 columns</p>\n",
       "</div>"
      ],
      "text/plain": [
       "     zipcode property_type        room_type  accommodates  bathrooms  \\\n",
       "0      94117     Apartment  Entire home/apt             3        1.0   \n",
       "1      94131         House     Private room             2        1.0   \n",
       "2      94110     Apartment  Entire home/apt             5        1.0   \n",
       "3      94117     Apartment     Private room             2        4.0   \n",
       "4      94117     Apartment     Private room             2        4.0   \n",
       "...      ...           ...              ...           ...        ...   \n",
       "8106   94110         House     Private room             5        2.0   \n",
       "8107   94102   Condominium  Entire home/apt             4        1.0   \n",
       "8108   94124           Hut     Private room             1        2.0   \n",
       "8109   94103     Apartment  Entire home/apt             2        1.0   \n",
       "8110   94014         House     Private room             5        1.0   \n",
       "\n",
       "      bedrooms  beds security_deposit     price  \n",
       "0          1.0   2.0         $100.00   $170.00   \n",
       "1          1.0   1.0           $0.00    $99.00   \n",
       "2          2.0   3.0              NaN  $235.00   \n",
       "3          1.0   1.0         $200.00    $65.00   \n",
       "4          1.0   1.0         $200.00    $65.00   \n",
       "...        ...   ...              ...       ...  \n",
       "8106       3.0   4.0       $1,000.00   $699.00   \n",
       "8107       1.0   2.0              NaN  $200.00   \n",
       "8108       1.0   0.0              NaN   $69.00   \n",
       "8109       1.0   1.0              NaN  $187.00   \n",
       "8110       2.0   2.0         $200.00   $200.00   \n",
       "\n",
       "[8111 rows x 9 columns]"
      ]
     },
     "execution_count": 7,
     "metadata": {},
     "output_type": "execute_result"
    }
   ],
   "source": [
    "df"
   ]
  },
  {
   "cell_type": "code",
   "execution_count": 8,
   "id": "a7528514-c09d-4ce9-bf36-db07df8410fd",
   "metadata": {},
   "outputs": [],
   "source": [
    "df[\"security_deposit\"] = df[\"security_deposit\"].fillna(df['security_deposit'].mode()[0])"
   ]
  },
  {
   "cell_type": "code",
   "execution_count": 9,
   "id": "c74924d0-c01d-4936-8441-245c0be25ef4",
   "metadata": {},
   "outputs": [],
   "source": [
    "df[\"bathrooms\"] = df[\"bathrooms\"].fillna(df['bathrooms'].mode()[0])"
   ]
  },
  {
   "cell_type": "code",
   "execution_count": 10,
   "id": "fe115eb4-cdc2-4881-914e-f33cbedc1e3d",
   "metadata": {},
   "outputs": [],
   "source": [
    "df[\"bedrooms\"] = df[\"bedrooms\"].fillna(df['bedrooms'].mode()[0])"
   ]
  },
  {
   "cell_type": "code",
   "execution_count": 11,
   "id": "c1063ce7-be65-4e8d-94ef-bb75e00b855c",
   "metadata": {},
   "outputs": [],
   "source": [
    "df[\"beds\"] = df[\"beds\"].fillna(df['beds'].mode()[0])"
   ]
  },
  {
   "cell_type": "code",
   "execution_count": 12,
   "id": "cb74a029-f45a-4d7c-b2ef-901323ae009f",
   "metadata": {},
   "outputs": [],
   "source": [
    "df = df.dropna()"
   ]
  },
  {
   "cell_type": "code",
   "execution_count": 13,
   "id": "8429c6b7-3fec-480a-b2f8-5a5730eb2919",
   "metadata": {},
   "outputs": [],
   "source": [
    "df = df.reset_index(drop=True)"
   ]
  },
  {
   "cell_type": "code",
   "execution_count": 14,
   "id": "3d6e838b-768c-48be-8dfe-c4e162b39100",
   "metadata": {},
   "outputs": [],
   "source": [
    "df['security_deposit'] = df['security_deposit'].str.replace(r'\\D', '').astype(int)"
   ]
  },
  {
   "cell_type": "code",
   "execution_count": 15,
   "id": "3f711b10-245b-4565-bc1c-71d488365e21",
   "metadata": {},
   "outputs": [],
   "source": [
    "df[\"price\"] = df[\"price\"].str.replace('$', '')\n",
    "df[\"price\"] = df[\"price\"].str.replace(',', '')"
   ]
  },
  {
   "cell_type": "code",
   "execution_count": 16,
   "id": "b46378f2-369f-4504-837e-ce1bf2a898c1",
   "metadata": {},
   "outputs": [],
   "source": [
    "df['zipcode'] = df['zipcode'].str.replace(r'\\D', '')"
   ]
  },
  {
   "cell_type": "code",
   "execution_count": 17,
   "id": "0ad3889b-bd78-4474-b14a-cc13b883cd2c",
   "metadata": {},
   "outputs": [],
   "source": [
    "df['zipcode'] = df['zipcode'][df['zipcode'] != '']"
   ]
  },
  {
   "cell_type": "code",
   "execution_count": 18,
   "id": "1206087d-110a-46a2-82d6-88260ca3bd6c",
   "metadata": {},
   "outputs": [],
   "source": [
    "df = df.dropna()"
   ]
  },
  {
   "cell_type": "code",
   "execution_count": 19,
   "id": "15da0455-cc44-4b67-bf45-d9b9b758a6b0",
   "metadata": {},
   "outputs": [
    {
     "data": {
      "text/plain": [
       "94110    978\n",
       "94117    675\n",
       "94114    639\n",
       "94109    608\n",
       "94103    492\n",
       "94102    489\n",
       "94112    404\n",
       "94107    366\n",
       "94122    354\n",
       "94115    304\n",
       "94131    280\n",
       "94108    273\n",
       "94133    250\n",
       "94121    222\n",
       "94123    221\n",
       "94118    217\n",
       "94116    202\n",
       "94124    196\n",
       "94134    151\n",
       "94127    139\n",
       "94105    137\n",
       "94132     93\n",
       "94158     77\n",
       "94111     51\n",
       "94014     31\n",
       "94104     11\n",
       "94015      2\n",
       "94129      1\n",
       "94130      1\n",
       "94113      1\n",
       "Name: zipcode, dtype: int64"
      ]
     },
     "execution_count": 19,
     "metadata": {},
     "output_type": "execute_result"
    }
   ],
   "source": [
    "df['zipcode'].value_counts()"
   ]
  },
  {
   "cell_type": "code",
   "execution_count": 20,
   "id": "b0a6957b-9cef-4c3e-b0f1-4f3a74f1cde1",
   "metadata": {},
   "outputs": [],
   "source": [
    "df['zipcode'] = pd.to_numeric(df['zipcode'], errors='coerce', downcast='integer')"
   ]
  },
  {
   "cell_type": "code",
   "execution_count": 21,
   "id": "2552ed6b-903b-4a20-8546-ddb021035397",
   "metadata": {},
   "outputs": [],
   "source": [
    "df['price'] = df['price'].astype(float)"
   ]
  },
  {
   "cell_type": "code",
   "execution_count": null,
   "id": "af5a5624-3f32-44d8-8657-17012e6a34d1",
   "metadata": {},
   "outputs": [],
   "source": []
  },
  {
   "cell_type": "code",
   "execution_count": 22,
   "id": "e10ebc27-6fdc-49e0-b545-45a5882983ea",
   "metadata": {},
   "outputs": [
    {
     "data": {
      "text/plain": [
       "Int64Index([], dtype='int64')"
      ]
     },
     "execution_count": 22,
     "metadata": {},
     "output_type": "execute_result"
    }
   ],
   "source": [
    "df[df['zipcode'].isnull()].index"
   ]
  },
  {
   "cell_type": "code",
   "execution_count": 23,
   "id": "1af58f19-c66b-403f-972d-b807ca3d2cdd",
   "metadata": {},
   "outputs": [
    {
     "data": {
      "text/plain": [
       "zipcode                    94134\n",
       "property_type        Guest suite\n",
       "room_type           Private room\n",
       "accommodates                   1\n",
       "bathrooms                    2.0\n",
       "bedrooms                     3.0\n",
       "beds                         3.0\n",
       "security_deposit           35000\n",
       "price                       65.0\n",
       "Name: 5830, dtype: object"
      ]
     },
     "execution_count": 23,
     "metadata": {},
     "output_type": "execute_result"
    }
   ],
   "source": [
    "df.iloc[5829]"
   ]
  },
  {
   "cell_type": "code",
   "execution_count": 24,
   "id": "087ae1dd-218e-470c-bc7e-d28c54a57a10",
   "metadata": {},
   "outputs": [],
   "source": [
    "df_dummies = pd.get_dummies(df, columns = ['property_type', 'room_type'])"
   ]
  },
  {
   "cell_type": "code",
   "execution_count": 25,
   "id": "8e3549fc-0e7f-48e5-baf0-c2e85aa50fa7",
   "metadata": {},
   "outputs": [],
   "source": [
    "df_dummies = df_dummies[df_dummies.price != 0]"
   ]
  },
  {
   "cell_type": "code",
   "execution_count": 26,
   "id": "96fe52e2-0bac-4d65-b187-88a479d5ad9e",
   "metadata": {},
   "outputs": [],
   "source": [
    "target = np.log(df_dummies['price'])"
   ]
  },
  {
   "cell_type": "code",
   "execution_count": 27,
   "id": "9faba749-18c8-4b32-92d1-657c3ce2e014",
   "metadata": {},
   "outputs": [],
   "source": [
    "df_dummies = df_dummies.drop('price', axis=1)"
   ]
  },
  {
   "cell_type": "code",
   "execution_count": 28,
   "id": "e40120e6-84b3-4ebe-a99b-82c06c10c1f3",
   "metadata": {},
   "outputs": [
    {
     "data": {
      "text/plain": [
       "Index(['zipcode', 'accommodates', 'bathrooms', 'bedrooms', 'beds',\n",
       "       'security_deposit', 'property_type_Aparthotel',\n",
       "       'property_type_Apartment', 'property_type_Bed and breakfast',\n",
       "       'property_type_Boutique hotel', 'property_type_Bungalow',\n",
       "       'property_type_Cabin', 'property_type_Camper/RV',\n",
       "       'property_type_Castle', 'property_type_Condominium',\n",
       "       'property_type_Cottage', 'property_type_Dome house',\n",
       "       'property_type_Earth house', 'property_type_Guest suite',\n",
       "       'property_type_Guesthouse', 'property_type_Hostel',\n",
       "       'property_type_Hotel', 'property_type_House', 'property_type_Hut',\n",
       "       'property_type_In-law', 'property_type_Loft', 'property_type_Other',\n",
       "       'property_type_Resort', 'property_type_Serviced apartment',\n",
       "       'property_type_Tiny house', 'property_type_Townhouse',\n",
       "       'property_type_Villa', 'room_type_Entire home/apt',\n",
       "       'room_type_Hotel room', 'room_type_Private room',\n",
       "       'room_type_Shared room'],\n",
       "      dtype='object')"
      ]
     },
     "execution_count": 28,
     "metadata": {},
     "output_type": "execute_result"
    }
   ],
   "source": [
    "df_dummies.columns"
   ]
  },
  {
   "cell_type": "code",
   "execution_count": 29,
   "id": "2536e459-6f5a-4f32-aaf6-0ea675825d8f",
   "metadata": {},
   "outputs": [],
   "source": [
    "X = df_dummies.values\n",
    "y = target.values"
   ]
  },
  {
   "cell_type": "code",
   "execution_count": 30,
   "id": "b8ac780b-00f7-4e68-bb5e-93e65a9bd193",
   "metadata": {},
   "outputs": [
    {
     "data": {
      "text/plain": [
       "0       94117\n",
       "1       94131\n",
       "2       94110\n",
       "3       94117\n",
       "4       94117\n",
       "        ...  \n",
       "7861    94110\n",
       "7862    94102\n",
       "7863    94124\n",
       "7864    94103\n",
       "7865    94014\n",
       "Name: zipcode, Length: 7864, dtype: int32"
      ]
     },
     "execution_count": 30,
     "metadata": {},
     "output_type": "execute_result"
    }
   ],
   "source": [
    "df_dummies['zipcode'].dropna()"
   ]
  },
  {
   "cell_type": "code",
   "execution_count": 31,
   "id": "9b9a7e47-d785-4c43-a5b0-820fcef338ef",
   "metadata": {},
   "outputs": [],
   "source": [
    "X_train, X_test, y_train, y_test = train_test_split(X, y, test_size=0.33, random_state=42)"
   ]
  },
  {
   "cell_type": "code",
   "execution_count": 32,
   "id": "e86963b1-f2c6-4799-9036-5c2be3ff2c4b",
   "metadata": {},
   "outputs": [
    {
     "data": {
      "text/html": [
       "<div>\n",
       "<style scoped>\n",
       "    .dataframe tbody tr th:only-of-type {\n",
       "        vertical-align: middle;\n",
       "    }\n",
       "\n",
       "    .dataframe tbody tr th {\n",
       "        vertical-align: top;\n",
       "    }\n",
       "\n",
       "    .dataframe thead th {\n",
       "        text-align: right;\n",
       "    }\n",
       "</style>\n",
       "<table border=\"1\" class=\"dataframe\">\n",
       "  <thead>\n",
       "    <tr style=\"text-align: right;\">\n",
       "      <th></th>\n",
       "      <th>zipcode</th>\n",
       "      <th>accommodates</th>\n",
       "      <th>bathrooms</th>\n",
       "      <th>bedrooms</th>\n",
       "      <th>beds</th>\n",
       "      <th>security_deposit</th>\n",
       "      <th>property_type_Aparthotel</th>\n",
       "      <th>property_type_Apartment</th>\n",
       "      <th>property_type_Bed and breakfast</th>\n",
       "      <th>property_type_Boutique hotel</th>\n",
       "      <th>...</th>\n",
       "      <th>property_type_Other</th>\n",
       "      <th>property_type_Resort</th>\n",
       "      <th>property_type_Serviced apartment</th>\n",
       "      <th>property_type_Tiny house</th>\n",
       "      <th>property_type_Townhouse</th>\n",
       "      <th>property_type_Villa</th>\n",
       "      <th>room_type_Entire home/apt</th>\n",
       "      <th>room_type_Hotel room</th>\n",
       "      <th>room_type_Private room</th>\n",
       "      <th>room_type_Shared room</th>\n",
       "    </tr>\n",
       "  </thead>\n",
       "  <tbody>\n",
       "    <tr>\n",
       "      <th>0</th>\n",
       "      <td>94117</td>\n",
       "      <td>3</td>\n",
       "      <td>1.0</td>\n",
       "      <td>1.0</td>\n",
       "      <td>2.0</td>\n",
       "      <td>10000</td>\n",
       "      <td>0</td>\n",
       "      <td>1</td>\n",
       "      <td>0</td>\n",
       "      <td>0</td>\n",
       "      <td>...</td>\n",
       "      <td>0</td>\n",
       "      <td>0</td>\n",
       "      <td>0</td>\n",
       "      <td>0</td>\n",
       "      <td>0</td>\n",
       "      <td>0</td>\n",
       "      <td>1</td>\n",
       "      <td>0</td>\n",
       "      <td>0</td>\n",
       "      <td>0</td>\n",
       "    </tr>\n",
       "    <tr>\n",
       "      <th>1</th>\n",
       "      <td>94131</td>\n",
       "      <td>2</td>\n",
       "      <td>1.0</td>\n",
       "      <td>1.0</td>\n",
       "      <td>1.0</td>\n",
       "      <td>0</td>\n",
       "      <td>0</td>\n",
       "      <td>0</td>\n",
       "      <td>0</td>\n",
       "      <td>0</td>\n",
       "      <td>...</td>\n",
       "      <td>0</td>\n",
       "      <td>0</td>\n",
       "      <td>0</td>\n",
       "      <td>0</td>\n",
       "      <td>0</td>\n",
       "      <td>0</td>\n",
       "      <td>0</td>\n",
       "      <td>0</td>\n",
       "      <td>1</td>\n",
       "      <td>0</td>\n",
       "    </tr>\n",
       "    <tr>\n",
       "      <th>2</th>\n",
       "      <td>94110</td>\n",
       "      <td>5</td>\n",
       "      <td>1.0</td>\n",
       "      <td>2.0</td>\n",
       "      <td>3.0</td>\n",
       "      <td>0</td>\n",
       "      <td>0</td>\n",
       "      <td>1</td>\n",
       "      <td>0</td>\n",
       "      <td>0</td>\n",
       "      <td>...</td>\n",
       "      <td>0</td>\n",
       "      <td>0</td>\n",
       "      <td>0</td>\n",
       "      <td>0</td>\n",
       "      <td>0</td>\n",
       "      <td>0</td>\n",
       "      <td>1</td>\n",
       "      <td>0</td>\n",
       "      <td>0</td>\n",
       "      <td>0</td>\n",
       "    </tr>\n",
       "    <tr>\n",
       "      <th>3</th>\n",
       "      <td>94117</td>\n",
       "      <td>2</td>\n",
       "      <td>4.0</td>\n",
       "      <td>1.0</td>\n",
       "      <td>1.0</td>\n",
       "      <td>20000</td>\n",
       "      <td>0</td>\n",
       "      <td>1</td>\n",
       "      <td>0</td>\n",
       "      <td>0</td>\n",
       "      <td>...</td>\n",
       "      <td>0</td>\n",
       "      <td>0</td>\n",
       "      <td>0</td>\n",
       "      <td>0</td>\n",
       "      <td>0</td>\n",
       "      <td>0</td>\n",
       "      <td>0</td>\n",
       "      <td>0</td>\n",
       "      <td>1</td>\n",
       "      <td>0</td>\n",
       "    </tr>\n",
       "    <tr>\n",
       "      <th>4</th>\n",
       "      <td>94117</td>\n",
       "      <td>2</td>\n",
       "      <td>4.0</td>\n",
       "      <td>1.0</td>\n",
       "      <td>1.0</td>\n",
       "      <td>20000</td>\n",
       "      <td>0</td>\n",
       "      <td>1</td>\n",
       "      <td>0</td>\n",
       "      <td>0</td>\n",
       "      <td>...</td>\n",
       "      <td>0</td>\n",
       "      <td>0</td>\n",
       "      <td>0</td>\n",
       "      <td>0</td>\n",
       "      <td>0</td>\n",
       "      <td>0</td>\n",
       "      <td>0</td>\n",
       "      <td>0</td>\n",
       "      <td>1</td>\n",
       "      <td>0</td>\n",
       "    </tr>\n",
       "  </tbody>\n",
       "</table>\n",
       "<p>5 rows × 36 columns</p>\n",
       "</div>"
      ],
      "text/plain": [
       "   zipcode  accommodates  bathrooms  bedrooms  beds  security_deposit  \\\n",
       "0    94117             3        1.0       1.0   2.0             10000   \n",
       "1    94131             2        1.0       1.0   1.0                 0   \n",
       "2    94110             5        1.0       2.0   3.0                 0   \n",
       "3    94117             2        4.0       1.0   1.0             20000   \n",
       "4    94117             2        4.0       1.0   1.0             20000   \n",
       "\n",
       "   property_type_Aparthotel  property_type_Apartment  \\\n",
       "0                         0                        1   \n",
       "1                         0                        0   \n",
       "2                         0                        1   \n",
       "3                         0                        1   \n",
       "4                         0                        1   \n",
       "\n",
       "   property_type_Bed and breakfast  property_type_Boutique hotel  ...  \\\n",
       "0                                0                             0  ...   \n",
       "1                                0                             0  ...   \n",
       "2                                0                             0  ...   \n",
       "3                                0                             0  ...   \n",
       "4                                0                             0  ...   \n",
       "\n",
       "   property_type_Other  property_type_Resort  \\\n",
       "0                    0                     0   \n",
       "1                    0                     0   \n",
       "2                    0                     0   \n",
       "3                    0                     0   \n",
       "4                    0                     0   \n",
       "\n",
       "   property_type_Serviced apartment  property_type_Tiny house  \\\n",
       "0                                 0                         0   \n",
       "1                                 0                         0   \n",
       "2                                 0                         0   \n",
       "3                                 0                         0   \n",
       "4                                 0                         0   \n",
       "\n",
       "   property_type_Townhouse  property_type_Villa  room_type_Entire home/apt  \\\n",
       "0                        0                    0                          1   \n",
       "1                        0                    0                          0   \n",
       "2                        0                    0                          1   \n",
       "3                        0                    0                          0   \n",
       "4                        0                    0                          0   \n",
       "\n",
       "   room_type_Hotel room  room_type_Private room  room_type_Shared room  \n",
       "0                     0                       0                      0  \n",
       "1                     0                       1                      0  \n",
       "2                     0                       0                      0  \n",
       "3                     0                       1                      0  \n",
       "4                     0                       1                      0  \n",
       "\n",
       "[5 rows x 36 columns]"
      ]
     },
     "execution_count": 32,
     "metadata": {},
     "output_type": "execute_result"
    }
   ],
   "source": [
    "df_dummies.head()"
   ]
  },
  {
   "cell_type": "code",
   "execution_count": 33,
   "id": "6da7a09f-8455-423c-8af3-1244a35c0c5e",
   "metadata": {},
   "outputs": [
    {
     "data": {
      "text/plain": [
       "zipcode                             0\n",
       "accommodates                        0\n",
       "bathrooms                           0\n",
       "bedrooms                            0\n",
       "beds                                0\n",
       "security_deposit                    0\n",
       "property_type_Aparthotel            0\n",
       "property_type_Apartment             0\n",
       "property_type_Bed and breakfast     0\n",
       "property_type_Boutique hotel        0\n",
       "property_type_Bungalow              0\n",
       "property_type_Cabin                 0\n",
       "property_type_Camper/RV             0\n",
       "property_type_Castle                0\n",
       "property_type_Condominium           0\n",
       "property_type_Cottage               0\n",
       "property_type_Dome house            0\n",
       "property_type_Earth house           0\n",
       "property_type_Guest suite           0\n",
       "property_type_Guesthouse            0\n",
       "property_type_Hostel                0\n",
       "property_type_Hotel                 0\n",
       "property_type_House                 0\n",
       "property_type_Hut                   0\n",
       "property_type_In-law                0\n",
       "property_type_Loft                  0\n",
       "property_type_Other                 0\n",
       "property_type_Resort                0\n",
       "property_type_Serviced apartment    0\n",
       "property_type_Tiny house            0\n",
       "property_type_Townhouse             0\n",
       "property_type_Villa                 0\n",
       "room_type_Entire home/apt           0\n",
       "room_type_Hotel room                0\n",
       "room_type_Private room              0\n",
       "room_type_Shared room               0\n",
       "dtype: int64"
      ]
     },
     "execution_count": 33,
     "metadata": {},
     "output_type": "execute_result"
    }
   ],
   "source": [
    "df_dummies.isnull().sum()"
   ]
  },
  {
   "cell_type": "code",
   "execution_count": 34,
   "id": "2052aff6-9c06-4754-b488-fe403620a060",
   "metadata": {},
   "outputs": [
    {
     "data": {
      "text/plain": [
       "94110    977\n",
       "94117    675\n",
       "94114    639\n",
       "94109    608\n",
       "94103    492\n",
       "94102    489\n",
       "94112    404\n",
       "94107    366\n",
       "94122    354\n",
       "94115    304\n",
       "94131    280\n",
       "94108    273\n",
       "94133    250\n",
       "94121    222\n",
       "94123    221\n",
       "94118    217\n",
       "94116    202\n",
       "94124    196\n",
       "94134    151\n",
       "94127    139\n",
       "94105    137\n",
       "94132     93\n",
       "94158     77\n",
       "94111     51\n",
       "94014     31\n",
       "94104     11\n",
       "94015      2\n",
       "94129      1\n",
       "94130      1\n",
       "94113      1\n",
       "Name: zipcode, dtype: int64"
      ]
     },
     "execution_count": 34,
     "metadata": {},
     "output_type": "execute_result"
    }
   ],
   "source": [
    "df_dummies['zipcode'].value_counts()"
   ]
  },
  {
   "cell_type": "code",
   "execution_count": 35,
   "id": "e5c8a1c2-97d3-432b-930a-c029eee2bbb7",
   "metadata": {},
   "outputs": [
    {
     "data": {
      "text/plain": [
       "RandomForestRegressor(max_depth=25, n_estimators=184, n_jobs=-1)"
      ]
     },
     "execution_count": 35,
     "metadata": {},
     "output_type": "execute_result"
    }
   ],
   "source": [
    "regr = RandomForestRegressor(n_estimators= 184, max_depth= 25, n_jobs= -1)\n",
    "regr.fit(X_train, y_train)"
   ]
  },
  {
   "cell_type": "code",
   "execution_count": 36,
   "id": "2232af1b-4129-40c2-b223-2c5d2beafdf7",
   "metadata": {},
   "outputs": [],
   "source": [
    "import pickle"
   ]
  },
  {
   "cell_type": "code",
   "execution_count": 37,
   "id": "b9ba7cf5-768a-4d2e-b7bc-85659c348407",
   "metadata": {},
   "outputs": [],
   "source": [
    "#model.fit(X_train, y_train)"
   ]
  },
  {
   "cell_type": "code",
   "execution_count": 38,
   "id": "41825381-3e70-4db7-88bd-af94983e1265",
   "metadata": {},
   "outputs": [],
   "source": [
    "y_pred = regr.predict(X_test)"
   ]
  },
  {
   "cell_type": "code",
   "execution_count": 39,
   "id": "a180f427-3512-4211-94f8-9ff7bf3dba77",
   "metadata": {},
   "outputs": [],
   "source": [
    "Pkl_Filename = \"Pickle_RF_Model.pkl\"  \n",
    "\n",
    "with open(Pkl_Filename, 'wb') as file:  \n",
    "    pickle.dump(regr, file)"
   ]
  },
  {
   "cell_type": "code",
   "execution_count": 40,
   "id": "2a560b68-69a0-4385-9394-3dd54e2f2c05",
   "metadata": {},
   "outputs": [],
   "source": [
    "# Load the Model back from file\n",
    "with open(Pkl_Filename, 'rb') as file:  \n",
    "    Pickled_RF_Model = pickle.load(file)"
   ]
  },
  {
   "cell_type": "code",
   "execution_count": null,
   "id": "c41c1d7c-5bca-4365-bfd8-ddeda6e6fc1c",
   "metadata": {},
   "outputs": [],
   "source": []
  },
  {
   "cell_type": "code",
   "execution_count": 41,
   "id": "65a2a565-989c-47cf-87e5-880f7a8ba411",
   "metadata": {},
   "outputs": [],
   "source": [
    "y_pred = Pickled_RF_Model.predict(X_test)"
   ]
  },
  {
   "cell_type": "code",
   "execution_count": 42,
   "id": "4dbfecd8-8fb2-4ec3-a649-048b0c737db8",
   "metadata": {},
   "outputs": [
    {
     "data": {
      "text/plain": [
       "<AxesSubplot:>"
      ]
     },
     "execution_count": 42,
     "metadata": {},
     "output_type": "execute_result"
    },
    {
     "data": {
      "image/png": "[encoded data removed]",
      "text/plain": [
       "<Figure size 432x288 with 1 Axes>"
      ]
     },
     "metadata": {
      "needs_background": "light"
     },
     "output_type": "display_data"
    }
   ],
   "source": [
    "sns.scatterplot(y_test,y_pred)"
   ]
  },
  {
   "cell_type": "code",
   "execution_count": null,
   "id": "b76270aa-6497-42cd-954a-6405405d960d",
   "metadata": {},
   "outputs": [],
   "source": []
  }
 ],
 "metadata": {
  "kernelspec": {
   "display_name": "Python 3",
   "language": "python",
   "name": "python3"
  },
  "language_info": {
   "codemirror_mode": {
    "name": "ipython",
    "version": 3
   },
   "file_extension": ".py",
   "mimetype": "text/x-python",
   "name": "python",
   "nbconvert_exporter": "python",
   "pygments_lexer": "ipython3",
   "version": "3.8.9"
  }
 },
 "nbformat": 4,
 "nbformat_minor": 5
}
